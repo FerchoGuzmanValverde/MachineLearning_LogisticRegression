{
  "nbformat": 4,
  "nbformat_minor": 0,
  "metadata": {
    "colab": {
      "name": "LogisticRergression.ipynb",
      "provenance": [],
      "collapsed_sections": []
    },
    "kernelspec": {
      "name": "python3",
      "display_name": "Python 3"
    },
    "language_info": {
      "name": "python"
    }
  },
  "cells": [
    {
      "cell_type": "markdown",
      "source": [
        "**MNIST Handwritten number with logistic regression**"
      ],
      "metadata": {
        "id": "qqB1oevZKexY"
      }
    },
    {
      "cell_type": "code",
      "execution_count": 14,
      "metadata": {
        "colab": {
          "base_uri": "https://localhost:8080/"
        },
        "id": "Uj5ONFxxKRoS",
        "outputId": "f305c8b1-e498-464e-a5ac-8dc63d9e53f2"
      },
      "outputs": [
        {
          "output_type": "stream",
          "name": "stdout",
          "text": [
            "--2022-02-21 13:47:28--  http://www.innovacademy.com/my_resources/subsample-mnist-hog.npy\n",
            "Resolving www.innovacademy.com (www.innovacademy.com)... 108.167.158.160\n",
            "Connecting to www.innovacademy.com (www.innovacademy.com)|108.167.158.160|:80... connected.\n",
            "HTTP request sent, awaiting response... 200 OK\n",
            "Length: 47330420 (45M)\n",
            "Saving to: ‘subsample-mnist-hog.npy.1’\n",
            "\n",
            "subsample-mnist-hog 100%[===================>]  45.14M  7.38MB/s    in 7.9s    \n",
            "\n",
            "2022-02-21 13:47:36 (5.72 MB/s) - ‘subsample-mnist-hog.npy.1’ saved [47330420/47330420]\n",
            "\n",
            "--2022-02-21 13:47:36--  http://www.innovacademy.com/my_resources/util_data_load.py\n",
            "Resolving www.innovacademy.com (www.innovacademy.com)... 108.167.158.160\n",
            "Connecting to www.innovacademy.com (www.innovacademy.com)|108.167.158.160|:80... connected.\n",
            "HTTP request sent, awaiting response... 200 OK\n",
            "Length: 4439 (4.3K)\n",
            "Saving to: ‘util_data_load.py.1’\n",
            "\n",
            "util_data_load.py.1 100%[===================>]   4.33K  --.-KB/s    in 0s      \n",
            "\n",
            "2022-02-21 13:47:36 (326 MB/s) - ‘util_data_load.py.1’ saved [4439/4439]\n",
            "\n"
          ]
        }
      ],
      "source": [
        "#Download dataset\n",
        "!wget http://www.innovacademy.com/my_resources/subsample-mnist-hog.npy\n",
        "!wget http://www.innovacademy.com/my_resources/util_data_load.py"
      ]
    },
    {
      "cell_type": "code",
      "source": [
        "#Import Libraries\n",
        "import numpy as np\n",
        "import matplotlib.pyplot as plt\n",
        "import util_data_load as util\n",
        "from sklearn.metrics import accuracy_score"
      ],
      "metadata": {
        "id": "5crCb6YTK1zD"
      },
      "execution_count": 15,
      "outputs": []
    },
    {
      "cell_type": "code",
      "source": [
        "#Load parameters\n",
        "parameters_file = \"subsample-mnist-hog.npy\"\n",
        "parameters = np.load(parameters_file, allow_pickle=True).item()"
      ],
      "metadata": {
        "id": "QeGB2YK5LG16"
      },
      "execution_count": 16,
      "outputs": []
    },
    {
      "cell_type": "code",
      "source": [
        "#Define Softmax\n",
        "def softmax(z):\n",
        "  result = np.exp(z)\n",
        "  sum = np.expand_dims(np.sum(result, axis=1), 1)\n",
        "  return result / sum"
      ],
      "metadata": {
        "id": "woWvXQvkLp8z"
      },
      "execution_count": 17,
      "outputs": []
    },
    {
      "cell_type": "code",
      "source": [
        "#Define hypothesis function\n",
        "def hypothesis(X, w):\n",
        "  return softmax(X @ w)"
      ],
      "metadata": {
        "id": "Bwv8oInlMXGS"
      },
      "execution_count": 18,
      "outputs": []
    },
    {
      "cell_type": "code",
      "source": [
        "#Define prediction function\n",
        "def predict(X, w):\n",
        "  return np.argmax(hypothesis(X, w), axis=1)"
      ],
      "metadata": {
        "id": "VN0UOtleMsIN"
      },
      "execution_count": 19,
      "outputs": []
    },
    {
      "cell_type": "code",
      "source": [
        "#Define loss function to determinde the cross-entropy value\n",
        "def loss_function(y, y_hat, lam, w):\n",
        "  N = y_hat.shape[0]\n",
        "  error = -(1/N) * (np.sum(y * np.log(y_hat)) + lam * np.sum(w ** 2))\n",
        "  return error"
      ],
      "metadata": {
        "id": "_h54G9bUM7Pa"
      },
      "execution_count": 20,
      "outputs": []
    },
    {
      "cell_type": "code",
      "source": [
        "#Define the train function to find the parameters\n",
        "def train():\n",
        "  X = parameters[\"X_train\"]\n",
        "  y = parameters[\"y_train\"]\n",
        "  w = np.zeros((X.shape[1], 10))\n",
        "\n",
        "  y_p = np.zeros((X.shape[0], 10))\n",
        "  y_p[np.arange(X.shape[0]), y] = 1.0\n",
        "\n",
        "  eta = 0.08\n",
        "  N = X.shape[0]\n",
        "  n_iteration = 5000\n",
        "  lam = 0.2\n",
        "\n",
        "  error_x = np.arange(0, n_iteration)\n",
        "  error_y = np.zeros((n_iteration))\n",
        "\n",
        "  m = eta / N\n",
        "\n",
        "  for iteration in range(n_iteration):\n",
        "    y_hat = hypothesis(X, w)\n",
        "    w = w - m * (np.dot(X.T, y_hat - y_p))\n",
        "\n",
        "    error_y[iteration] = loss_function(y_p, y_hat, lam, w)\n",
        "\n",
        "    if (iteration + 1) % 100 == 0:\n",
        "      print(\"Cross-entropy on iteration \" + str(iteration + 1) + \": \" + str(error_y[iteration]))\n",
        "    \n",
        "  plt.title(\"Loss function\")\n",
        "  plt.plot(error_x, error_y)\n",
        "  plt.show()\n",
        "\n",
        "  parameters[\"w\"] = w"
      ],
      "metadata": {
        "id": "DgXD_pllNaxi"
      },
      "execution_count": 29,
      "outputs": []
    },
    {
      "cell_type": "code",
      "source": [
        "#This function allow us to recognize numbers according to the index of the entry in the dataset\n",
        "def say_number(idx):\n",
        "    w = parameters[\"w\"]\n",
        "    test_digits = parameters[\"test_data\"]\n",
        "    X_test = parameters[\"X_test\"]\n",
        "    width = parameters[\"width\"]\n",
        "    height = parameters[\"height\"]\n",
        "    \n",
        "    plt.matshow(np.reshape(test_digits[idx], newshape = (width, height)), cmap='gray')\n",
        "    plt.gca().axes.get_yaxis().set_visible(False)\n",
        "    plt.gca().axes.get_xaxis().set_visible(False)\n",
        "    plt.title(\"Prediction: The number is \" + str(predict(np.reshape(X_test[idx], newshape = (1, X_test.shape[1])), w)[0]))"
      ],
      "metadata": {
        "id": "pg4OBSTfQGss"
      },
      "execution_count": 22,
      "outputs": []
    },
    {
      "cell_type": "code",
      "source": [
        "#Test fucntion\n",
        "def evaluate():\n",
        "  X_train = parameters[\"X_train\"]\n",
        "  y_train = parameters[\"y_train\"]\n",
        "  X_test = parameters[\"X_test\"]\n",
        "  y_test = parameters[\"y_test\"]\n",
        "  w = parameters[\"w\"]\n",
        "\n",
        "  y = predict(X_train, w)\n",
        "\n",
        "  print(\"Training accuracy: \" + str(accuracy_score(y_train, y)))\n",
        "\n",
        "  y_pred = predict(X_test, w)\n",
        "  print(\"Testing accuracy: \" + str(accuracy_score(y_test, y_pred)))"
      ],
      "metadata": {
        "id": "eB3VxiNrQbBL"
      },
      "execution_count": 23,
      "outputs": []
    },
    {
      "cell_type": "code",
      "source": [
        "util.prepare_data(parameters, True)\n",
        "util.plot(parameters, 500)"
      ],
      "metadata": {
        "colab": {
          "base_uri": "https://localhost:8080/",
          "height": 370
        },
        "id": "tbyDqZ49hq_S",
        "outputId": "6ccc0306-90c8-479d-d9ab-1a7b2c0a91f4"
      },
      "execution_count": 24,
      "outputs": [
        {
          "output_type": "stream",
          "name": "stderr",
          "text": [
            "/usr/local/lib/python3.7/dist-packages/sklearn/manifold/_t_sne.py:783: FutureWarning: The default initialization in TSNE will change from 'random' to 'pca' in 1.2.\n",
            "  FutureWarning,\n",
            "/usr/local/lib/python3.7/dist-packages/sklearn/manifold/_t_sne.py:793: FutureWarning: The default learning rate in TSNE will change from 200.0 to 'auto' in 1.2.\n",
            "  FutureWarning,\n"
          ]
        },
        {
          "output_type": "display_data",
          "data": {
            "image/png": "[encoded data removed]",
            "text/plain": [
              "<Figure size 432x288 with 1 Axes>"
            ]
          },
          "metadata": {
            "needs_background": "light"
          }
        }
      ]
    },
    {
      "cell_type": "code",
      "source": [
        "#Train and test\n",
        "train()\n",
        "evaluate()"
      ],
      "metadata": {
        "colab": {
          "base_uri": "https://localhost:8080/",
          "height": 1000
        },
        "id": "MizfDOjYiy01",
        "outputId": "6526d9bb-cb91-45b9-9acb-e14ea973a08c"
      },
      "execution_count": 30,
      "outputs": [
        {
          "output_type": "stream",
          "name": "stdout",
          "text": [
            "Cross-entropy on iteration 100: 0.14457738738623713\n",
            "Cross-entropy on iteration 200: 0.10311403960879642\n",
            "Cross-entropy on iteration 300: 0.08381488222486748\n",
            "Cross-entropy on iteration 400: 0.07179384529336653\n",
            "Cross-entropy on iteration 500: 0.06329548548786189\n",
            "Cross-entropy on iteration 600: 0.05683606121463708\n",
            "Cross-entropy on iteration 700: 0.05169085782757661\n",
            "Cross-entropy on iteration 800: 0.04745622820871772\n",
            "Cross-entropy on iteration 900: 0.043886353433199986\n",
            "Cross-entropy on iteration 1000: 0.04082156325597023\n",
            "Cross-entropy on iteration 1100: 0.03815282018667593\n",
            "Cross-entropy on iteration 1200: 0.03580255152197705\n",
            "Cross-entropy on iteration 1300: 0.03371364335003065\n",
            "Cross-entropy on iteration 1400: 0.03184281146551275\n",
            "Cross-entropy on iteration 1500: 0.030156447096768534\n",
            "Cross-entropy on iteration 1600: 0.028627918777115857\n",
            "Cross-entropy on iteration 1700: 0.02723575925376687\n",
            "Cross-entropy on iteration 1800: 0.02596240740245386\n",
            "Cross-entropy on iteration 1900: 0.0247933101821229\n",
            "Cross-entropy on iteration 2000: 0.023716266777963586\n",
            "Cross-entropy on iteration 2100: 0.022720941420987836\n",
            "Cross-entropy on iteration 2200: 0.02179849703616453\n",
            "Cross-entropy on iteration 2300: 0.020941317013472023\n",
            "Cross-entropy on iteration 2400: 0.020142791749033204\n",
            "Cross-entropy on iteration 2500: 0.01939715283242191\n",
            "Cross-entropy on iteration 2600: 0.018699342256995547\n",
            "Cross-entropy on iteration 2700: 0.01804490745338236\n",
            "Cross-entropy on iteration 2800: 0.017429915565873463\n",
            "Cross-entropy on iteration 2900: 0.016850882340921115\n",
            "Cross-entropy on iteration 3000: 0.01630471238668088\n",
            "Cross-entropy on iteration 3100: 0.015788648512050293\n",
            "Cross-entropy on iteration 3200: 0.015300228482592581\n",
            "Cross-entropy on iteration 3300: 0.0148372479425749\n",
            "Cross-entropy on iteration 3400: 0.014397728525598208\n",
            "Cross-entropy on iteration 3500: 0.013979890364484373\n",
            "Cross-entropy on iteration 3600: 0.013582128347776622\n",
            "Cross-entropy on iteration 3700: 0.013202991575130591\n",
            "Cross-entropy on iteration 3800: 0.01284116554813669\n",
            "Cross-entropy on iteration 3900: 0.012495456702880957\n",
            "Cross-entropy on iteration 4000: 0.012164778949316413\n",
            "Cross-entropy on iteration 4100: 0.011848141932407734\n",
            "Cross-entropy on iteration 4200: 0.011544640772473722\n",
            "Cross-entropy on iteration 4300: 0.011253447078279886\n",
            "Cross-entropy on iteration 4400: 0.010973801057131239\n",
            "Cross-entropy on iteration 4500: 0.010705004572258372\n",
            "Cross-entropy on iteration 4600: 0.010446415019856629\n",
            "Cross-entropy on iteration 4700: 0.010197439916819904\n",
            "Cross-entropy on iteration 4800: 0.00995753210602219\n",
            "Cross-entropy on iteration 4900: 0.009726185499384355\n",
            "Cross-entropy on iteration 5000: 0.009502931290300064\n"
          ]
        },
        {
          "output_type": "display_data",
          "data": {
            "image/png": "[encoded data removed]",
            "text/plain": [
              "<Figure size 432x288 with 1 Axes>"
            ]
          },
          "metadata": {
            "needs_background": "light"
          }
        },
        {
          "output_type": "stream",
          "name": "stdout",
          "text": [
            "Training accuracy: 1.0\n",
            "Testing accuracy: 0.9803333333333333\n"
          ]
        }
      ]
    },
    {
      "cell_type": "code",
      "source": [
        "#Select randomly images to test the model\n",
        "test_pool = np.random.randint(0, parameters[\"X_test\"].shape[0], 5)\n",
        "for i in test_pool:\n",
        "  say_number(i)"
      ],
      "metadata": {
        "colab": {
          "base_uri": "https://localhost:8080/",
          "height": 1000
        },
        "id": "SPmAEf05veI-",
        "outputId": "be8944b2-ad5f-48e3-fb71-3232e3b8e900"
      },
      "execution_count": 31,
      "outputs": [
        {
          "output_type": "display_data",
          "data": {
            "image/png": "[encoded data removed]",
            "text/plain": [
              "<Figure size 288x288 with 1 Axes>"
            ]
          },
          "metadata": {
            "needs_background": "light"
          }
        },
        {
          "output_type": "display_data",
          "data": {
            "image/png": "[encoded data removed]",
            "text/plain": [
              "<Figure size 288x288 with 1 Axes>"
            ]
          },
          "metadata": {
            "needs_background": "light"
          }
        },
        {
          "output_type": "display_data",
          "data": {
            "image/png": "[encoded data removed]",
            "text/plain": [
              "<Figure size 288x288 with 1 Axes>"
            ]
          },
          "metadata": {
            "needs_background": "light"
          }
        },
        {
          "output_type": "display_data",
          "data": {
            "image/png": "[encoded data removed]",
            "text/plain": [
              "<Figure size 288x288 with 1 Axes>"
            ]
          },
          "metadata": {
            "needs_background": "light"
          }
        },
        {
          "output_type": "display_data",
          "data": {
            "image/png": "[encoded data removed]",
            "text/plain": [
              "<Figure size 288x288 with 1 Axes>"
            ]
          },
          "metadata": {
            "needs_background": "light"
          }
        }
      ]
    },
    {
      "cell_type": "code",
      "source": [
        "#Try images to test from 0 to 5999\n",
        "say_number(3500)"
      ],
      "metadata": {
        "colab": {
          "base_uri": "https://localhost:8080/",
          "height": 285
        },
        "id": "1DLZknyPwXfA",
        "outputId": "d2883255-4420-432a-c694-fa31373d10a2"
      },
      "execution_count": 32,
      "outputs": [
        {
          "output_type": "display_data",
          "data": {
            "image/png": "[encoded data removed]",
            "text/plain": [
              "<Figure size 288x288 with 1 Axes>"
            ]
          },
          "metadata": {
            "needs_background": "light"
          }
        }
      ]
    },
    {
      "cell_type": "markdown",
      "source": [
        "**Logistic Regression with SKLearn**"
      ],
      "metadata": {
        "id": "goQENnyGwioO"
      }
    },
    {
      "cell_type": "code",
      "source": [
        "#Import Library\n",
        "from sklearn.linear_model import LogisticRegression"
      ],
      "metadata": {
        "id": "oonAcv7swoo-"
      },
      "execution_count": 33,
      "outputs": []
    },
    {
      "cell_type": "code",
      "source": [
        "#Split into train and test\n",
        "X_train, X_test, y_train, y_test = parameters['X_train'], parameters['X_test'], parameters['y_train'], parameters['y_test']"
      ],
      "metadata": {
        "id": "x2pBV0I4w8Zu"
      },
      "execution_count": 35,
      "outputs": []
    },
    {
      "cell_type": "code",
      "source": [
        "#Train the model\n",
        "clf = LogisticRegression(max_iter=1000)\n",
        "clf.fit(X_train, y_train)"
      ],
      "metadata": {
        "colab": {
          "base_uri": "https://localhost:8080/"
        },
        "id": "IZ0h_6Pn6Y4v",
        "outputId": "b077aabc-e30f-4c0b-91cf-d877f6f7deb1"
      },
      "execution_count": 36,
      "outputs": [
        {
          "output_type": "execute_result",
          "data": {
            "text/plain": [
              "LogisticRegression(max_iter=1000)"
            ]
          },
          "metadata": {},
          "execution_count": 36
        }
      ]
    },
    {
      "cell_type": "code",
      "source": [
        "#Make predictions\n",
        "y_pred = clf.predict(X_test)\n",
        "accuracy_score(y_test, y_pred)"
      ],
      "metadata": {
        "colab": {
          "base_uri": "https://localhost:8080/"
        },
        "id": "Qqy-fjBG6rUn",
        "outputId": "8d927210-8373-4638-ac47-84eed45ec8ad"
      },
      "execution_count": 37,
      "outputs": [
        {
          "output_type": "execute_result",
          "data": {
            "text/plain": [
              "0.9801666666666666"
            ]
          },
          "metadata": {},
          "execution_count": 37
        }
      ]
    }
  ]
}